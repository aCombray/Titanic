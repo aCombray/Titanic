{
 "cells": [
  {
   "cell_type": "code",
   "execution_count": 1,
   "metadata": {
    "collapsed": true
   },
   "outputs": [],
   "source": [
    "import pandas as pd\n",
    "import numpy as np"
   ]
  },
  {
   "cell_type": "code",
   "execution_count": 2,
   "metadata": {
    "collapsed": false
   },
   "outputs": [],
   "source": [
    "df_1 = pd.DataFrame(np.random.randint(5, size = (3, 4)))"
   ]
  },
  {
   "cell_type": "code",
   "execution_count": 3,
   "metadata": {
    "collapsed": false
   },
   "outputs": [
    {
     "data": {
      "text/html": [
       "<div>\n",
       "<style>\n",
       "    .dataframe thead tr:only-child th {\n",
       "        text-align: right;\n",
       "    }\n",
       "\n",
       "    .dataframe thead th {\n",
       "        text-align: left;\n",
       "    }\n",
       "\n",
       "    .dataframe tbody tr th {\n",
       "        vertical-align: top;\n",
       "    }\n",
       "</style>\n",
       "<table border=\"1\" class=\"dataframe\">\n",
       "  <thead>\n",
       "    <tr style=\"text-align: right;\">\n",
       "      <th></th>\n",
       "      <th>0</th>\n",
       "      <th>1</th>\n",
       "      <th>2</th>\n",
       "      <th>3</th>\n",
       "    </tr>\n",
       "  </thead>\n",
       "  <tbody>\n",
       "    <tr>\n",
       "      <th>0</th>\n",
       "      <td>2</td>\n",
       "      <td>4</td>\n",
       "      <td>4</td>\n",
       "      <td>1</td>\n",
       "    </tr>\n",
       "    <tr>\n",
       "      <th>1</th>\n",
       "      <td>2</td>\n",
       "      <td>1</td>\n",
       "      <td>3</td>\n",
       "      <td>0</td>\n",
       "    </tr>\n",
       "    <tr>\n",
       "      <th>2</th>\n",
       "      <td>0</td>\n",
       "      <td>4</td>\n",
       "      <td>1</td>\n",
       "      <td>1</td>\n",
       "    </tr>\n",
       "  </tbody>\n",
       "</table>\n",
       "</div>"
      ],
      "text/plain": [
       "   0  1  2  3\n",
       "0  2  4  4  1\n",
       "1  2  1  3  0\n",
       "2  0  4  1  1"
      ]
     },
     "execution_count": 3,
     "metadata": {},
     "output_type": "execute_result"
    }
   ],
   "source": [
    "df_1.head()"
   ]
  },
  {
   "cell_type": "code",
   "execution_count": 4,
   "metadata": {
    "collapsed": false
   },
   "outputs": [
    {
     "data": {
      "text/html": [
       "<div>\n",
       "<style>\n",
       "    .dataframe thead tr:only-child th {\n",
       "        text-align: right;\n",
       "    }\n",
       "\n",
       "    .dataframe thead th {\n",
       "        text-align: left;\n",
       "    }\n",
       "\n",
       "    .dataframe tbody tr th {\n",
       "        vertical-align: top;\n",
       "    }\n",
       "</style>\n",
       "<table border=\"1\" class=\"dataframe\">\n",
       "  <thead>\n",
       "    <tr style=\"text-align: right;\">\n",
       "      <th></th>\n",
       "      <th>0</th>\n",
       "      <th>1</th>\n",
       "      <th>2</th>\n",
       "    </tr>\n",
       "  </thead>\n",
       "  <tbody>\n",
       "    <tr>\n",
       "      <th>0</th>\n",
       "      <td>0</td>\n",
       "      <td>2</td>\n",
       "      <td>1</td>\n",
       "    </tr>\n",
       "    <tr>\n",
       "      <th>1</th>\n",
       "      <td>1</td>\n",
       "      <td>0</td>\n",
       "      <td>2</td>\n",
       "    </tr>\n",
       "  </tbody>\n",
       "</table>\n",
       "</div>"
      ],
      "text/plain": [
       "   0  1  2\n",
       "0  0  2  1\n",
       "1  1  0  2"
      ]
     },
     "execution_count": 4,
     "metadata": {},
     "output_type": "execute_result"
    }
   ],
   "source": [
    "df_2 = pd.DataFrame(np.random.randint(4, size = (2, 3)))\n",
    "df_2.head()"
   ]
  },
  {
   "cell_type": "code",
   "execution_count": 5,
   "metadata": {
    "collapsed": false
   },
   "outputs": [],
   "source": [
    "combine = [df_1, df_2]"
   ]
  },
  {
   "cell_type": "code",
   "execution_count": 6,
   "metadata": {
    "collapsed": true
   },
   "outputs": [],
   "source": [
    "for data in combine:\n",
    "    data['new'] = 0"
   ]
  },
  {
   "cell_type": "code",
   "execution_count": 7,
   "metadata": {
    "collapsed": false
   },
   "outputs": [
    {
     "data": {
      "text/html": [
       "<div>\n",
       "<style>\n",
       "    .dataframe thead tr:only-child th {\n",
       "        text-align: right;\n",
       "    }\n",
       "\n",
       "    .dataframe thead th {\n",
       "        text-align: left;\n",
       "    }\n",
       "\n",
       "    .dataframe tbody tr th {\n",
       "        vertical-align: top;\n",
       "    }\n",
       "</style>\n",
       "<table border=\"1\" class=\"dataframe\">\n",
       "  <thead>\n",
       "    <tr style=\"text-align: right;\">\n",
       "      <th></th>\n",
       "      <th>0</th>\n",
       "      <th>1</th>\n",
       "      <th>2</th>\n",
       "      <th>3</th>\n",
       "      <th>new</th>\n",
       "    </tr>\n",
       "  </thead>\n",
       "  <tbody>\n",
       "    <tr>\n",
       "      <th>0</th>\n",
       "      <td>2</td>\n",
       "      <td>4</td>\n",
       "      <td>4</td>\n",
       "      <td>1</td>\n",
       "      <td>0</td>\n",
       "    </tr>\n",
       "    <tr>\n",
       "      <th>1</th>\n",
       "      <td>2</td>\n",
       "      <td>1</td>\n",
       "      <td>3</td>\n",
       "      <td>0</td>\n",
       "      <td>0</td>\n",
       "    </tr>\n",
       "    <tr>\n",
       "      <th>2</th>\n",
       "      <td>0</td>\n",
       "      <td>4</td>\n",
       "      <td>1</td>\n",
       "      <td>1</td>\n",
       "      <td>0</td>\n",
       "    </tr>\n",
       "  </tbody>\n",
       "</table>\n",
       "</div>"
      ],
      "text/plain": [
       "   0  1  2  3  new\n",
       "0  2  4  4  1    0\n",
       "1  2  1  3  0    0\n",
       "2  0  4  1  1    0"
      ]
     },
     "execution_count": 7,
     "metadata": {},
     "output_type": "execute_result"
    }
   ],
   "source": [
    "df_1"
   ]
  },
  {
   "cell_type": "code",
   "execution_count": 8,
   "metadata": {
    "collapsed": false
   },
   "outputs": [
    {
     "data": {
      "text/html": [
       "<div>\n",
       "<style>\n",
       "    .dataframe thead tr:only-child th {\n",
       "        text-align: right;\n",
       "    }\n",
       "\n",
       "    .dataframe thead th {\n",
       "        text-align: left;\n",
       "    }\n",
       "\n",
       "    .dataframe tbody tr th {\n",
       "        vertical-align: top;\n",
       "    }\n",
       "</style>\n",
       "<table border=\"1\" class=\"dataframe\">\n",
       "  <thead>\n",
       "    <tr style=\"text-align: right;\">\n",
       "      <th></th>\n",
       "      <th>0</th>\n",
       "      <th>1</th>\n",
       "      <th>2</th>\n",
       "      <th>new</th>\n",
       "    </tr>\n",
       "  </thead>\n",
       "  <tbody>\n",
       "    <tr>\n",
       "      <th>0</th>\n",
       "      <td>0</td>\n",
       "      <td>2</td>\n",
       "      <td>1</td>\n",
       "      <td>0</td>\n",
       "    </tr>\n",
       "    <tr>\n",
       "      <th>1</th>\n",
       "      <td>1</td>\n",
       "      <td>0</td>\n",
       "      <td>2</td>\n",
       "      <td>0</td>\n",
       "    </tr>\n",
       "  </tbody>\n",
       "</table>\n",
       "</div>"
      ],
      "text/plain": [
       "   0  1  2  new\n",
       "0  0  2  1    0\n",
       "1  1  0  2    0"
      ]
     },
     "execution_count": 8,
     "metadata": {},
     "output_type": "execute_result"
    }
   ],
   "source": [
    "df_2"
   ]
  },
  {
   "cell_type": "code",
   "execution_count": 9,
   "metadata": {
    "collapsed": false
   },
   "outputs": [
    {
     "name": "stdout",
     "output_type": "stream",
     "text": [
      "0.19.0\n"
     ]
    }
   ],
   "source": [
    "import sklearn\n",
    "print(sklearn.__version__)"
   ]
  },
  {
   "cell_type": "code",
   "execution_count": 10,
   "metadata": {
    "collapsed": false
   },
   "outputs": [],
   "source": [
    "from sklearn.model_selection import RepeatedKFold, StratifiedKFold"
   ]
  },
  {
   "cell_type": "code",
   "execution_count": 11,
   "metadata": {
    "collapsed": false
   },
   "outputs": [
    {
     "name": "stdout",
     "output_type": "stream",
     "text": [
      "[2 3] [0 1]\n",
      "[0 1] [2 3]\n",
      "[0 2] [1 3]\n",
      "[1 3] [0 2]\n",
      "[0 3] [1 2]\n",
      "[1 2] [0 3]\n"
     ]
    }
   ],
   "source": [
    "X = np.array([[1, 2], [3, 4], [1, 2], [3, 4]])\n",
    "random_state = 12883823\n",
    "rkf = RepeatedKFold(n_splits=2, n_repeats=3, random_state=random_state)\n",
    "for train, test in rkf.split(X):\n",
    "    print(\"%s %s\" % (train, test))"
   ]
  },
  {
   "cell_type": "code",
   "execution_count": 12,
   "metadata": {
    "collapsed": true
   },
   "outputs": [],
   "source": [
    "def get_oof(clf, x_train, y_train, x_test):\n",
    "    oof_train = np.zeros((ntrain,))\n",
    "    oof_test = np.zeros((ntest,))\n",
    "    oof_test_skf = np.empty((NFOLDS, ntest))\n",
    "    skf = StratifiedKFold(n_splits=NFOLDS, shuffle = True, random_state=12883823)\n",
    "    skf.get_n_splits(x_train)\n",
    "\n",
    "    for i, (train_index, test_index) in enumerate(skf.split(x_train, y_train)):\n",
    "        x_tr = x_train[train_index]\n",
    "        y_tr = y_train[train_index]\n",
    "        x_te = x_train[test_index]\n",
    "\n",
    "        #clf.fit(x_tr, y_tr)\n",
    "        print 'i is {}, train_index is {}, test_index is {}'.format(i, train_index, test_index)\n",
    "        \n",
    "        oof_train[test_index] = -1\n",
    "        oof_test_skf[i, :] = -1\n",
    "\n",
    "    oof_test[:] = oof_test_skf.mean(axis=0)\n",
    "    return oof_train.reshape(-1, 1), oof_test.reshape(-1, 1)"
   ]
  },
  {
   "cell_type": "code",
   "execution_count": 13,
   "metadata": {
    "collapsed": false
   },
   "outputs": [],
   "source": [
    "from sklearn.linear_model import LogisticRegression\n",
    "clf = LogisticRegression()"
   ]
  },
  {
   "cell_type": "code",
   "execution_count": 14,
   "metadata": {
    "collapsed": false
   },
   "outputs": [
    {
     "data": {
      "text/plain": [
       "array([[0, 2, 1, 1],\n",
       "       [2, 2, 0, 2],\n",
       "       [1, 1, 1, 1],\n",
       "       [0, 1, 0, 1],\n",
       "       [0, 1, 2, 1],\n",
       "       [2, 2, 2, 2],\n",
       "       [1, 1, 2, 1],\n",
       "       [1, 0, 0, 1],\n",
       "       [1, 1, 0, 2],\n",
       "       [0, 0, 1, 2]])"
      ]
     },
     "execution_count": 14,
     "metadata": {},
     "output_type": "execute_result"
    }
   ],
   "source": [
    "x_train = np.random.randint(3, size = (10, 4))\n",
    "x_train"
   ]
  },
  {
   "cell_type": "code",
   "execution_count": 15,
   "metadata": {
    "collapsed": true
   },
   "outputs": [],
   "source": [
    "y_train = np.random.randint(2, size = 10)"
   ]
  },
  {
   "cell_type": "code",
   "execution_count": 16,
   "metadata": {
    "collapsed": true
   },
   "outputs": [],
   "source": [
    "x_test = np.random.randint(3, size = (3, 4))"
   ]
  },
  {
   "cell_type": "code",
   "execution_count": 17,
   "metadata": {
    "collapsed": false
   },
   "outputs": [],
   "source": [
    "NFOLDS = 5\n",
    "ntrain = x_train.shape[0]\n",
    "ntest = x_test.shape[0]"
   ]
  },
  {
   "cell_type": "code",
   "execution_count": 18,
   "metadata": {
    "collapsed": false
   },
   "outputs": [
    {
     "name": "stdout",
     "output_type": "stream",
     "text": [
      "i is 0, train_index is [0 2 4 5 7 8 9], test_index is [1 3 6]\n",
      "i is 1, train_index is [0 1 2 3 5 6 8 9], test_index is [4 7]\n",
      "i is 2, train_index is [0 1 2 3 4 6 7 8 9], test_index is [5]\n",
      "i is 3, train_index is [1 2 3 4 5 6 7 8], test_index is [0 9]\n",
      "i is 4, train_index is [0 1 3 4 5 6 7 9], test_index is [2 8]\n"
     ]
    },
    {
     "name": "stderr",
     "output_type": "stream",
     "text": [
      "/Users/zhuyuecheng/anaconda/lib/python2.7/site-packages/sklearn/model_selection/_split.py:597: Warning: The least populated class in y has only 3 members, which is too few. The minimum number of members in any class cannot be less than n_splits=5.\n",
      "  % (min_groups, self.n_splits)), Warning)\n"
     ]
    },
    {
     "data": {
      "text/plain": [
       "(array([[-1.],\n",
       "        [-1.],\n",
       "        [-1.],\n",
       "        [-1.],\n",
       "        [-1.],\n",
       "        [-1.],\n",
       "        [-1.],\n",
       "        [-1.],\n",
       "        [-1.],\n",
       "        [-1.]]), array([[-1.],\n",
       "        [-1.],\n",
       "        [-1.]]))"
      ]
     },
     "execution_count": 18,
     "metadata": {},
     "output_type": "execute_result"
    }
   ],
   "source": [
    "get_oof(clf, x_train, y_train, x_test)"
   ]
  },
  {
   "cell_type": "code",
   "execution_count": 19,
   "metadata": {
    "collapsed": true
   },
   "outputs": [],
   "source": [
    "from bayes_opt import BayesianOptimization"
   ]
  },
  {
   "cell_type": "code",
   "execution_count": 20,
   "metadata": {
    "collapsed": true
   },
   "outputs": [],
   "source": [
    "from sklearn.ensemble import RandomForestClassifier"
   ]
  },
  {
   "cell_type": "code",
   "execution_count": 21,
   "metadata": {
    "collapsed": false
   },
   "outputs": [
    {
     "data": {
      "text/plain": [
       "[1, 10, 100, 1000, 10000]"
      ]
     },
     "execution_count": 21,
     "metadata": {},
     "output_type": "execute_result"
    }
   ],
   "source": [
    "params = []\n",
    "for i in range(5):\n",
    "    params.append(10**i)\n",
    "params"
   ]
  },
  {
   "cell_type": "code",
   "execution_count": 23,
   "metadata": {
    "collapsed": false
   },
   "outputs": [
    {
     "data": {
      "text/plain": [
       "array([0, 1, 1])"
      ]
     },
     "execution_count": 23,
     "metadata": {},
     "output_type": "execute_result"
    }
   ],
   "source": [
    "y_test = np.random.randint(2, size = 3)\n",
    "y_test"
   ]
  },
  {
   "cell_type": "code",
   "execution_count": 31,
   "metadata": {
    "collapsed": false
   },
   "outputs": [],
   "source": [
    "from __future__ import print_function\n",
    "from __future__ import division\n",
    "from sklearn.datasets import make_classification\n",
    "from sklearn.cross_validation import cross_val_score\n",
    "from sklearn.ensemble import RandomForestClassifier as RFC\n",
    "from sklearn.svm import SVC"
   ]
  },
  {
   "cell_type": "code",
   "execution_count": 32,
   "metadata": {
    "collapsed": true
   },
   "outputs": [],
   "source": [
    "from bayes_opt import BayesianOptimization"
   ]
  },
  {
   "cell_type": "code",
   "execution_count": 33,
   "metadata": {
    "collapsed": false
   },
   "outputs": [],
   "source": [
    "# Load data set and target values\n",
    "data, target = make_classification(\n",
    "    n_samples=1000,\n",
    "    n_features=45,\n",
    "    n_informative=12,\n",
    "    n_redundant=7\n",
    ")"
   ]
  },
  {
   "cell_type": "code",
   "execution_count": 34,
   "metadata": {
    "collapsed": false
   },
   "outputs": [
    {
     "data": {
      "text/plain": [
       "array([[ 0.88887985,  2.71625489,  1.1295838 , ...,  0.06703901,\n",
       "         1.4448183 , -0.86718097],\n",
       "       [-1.72208422,  4.14984875,  2.03704582, ...,  1.28710776,\n",
       "         0.27142612,  0.50651122],\n",
       "       [ 0.33870329,  1.36113832,  4.72254557, ...,  0.63882048,\n",
       "        -2.39513635, -1.35904718],\n",
       "       ..., \n",
       "       [-0.2302159 , -1.70039593,  1.83200218, ..., -0.17893847,\n",
       "         0.46795642,  0.25933739],\n",
       "       [-0.30695068,  4.57164923,  4.91479682, ..., -1.20596022,\n",
       "         3.84384941,  0.37432121],\n",
       "       [-1.50745608, -5.49254037,  3.60537655, ...,  0.26017658,\n",
       "         0.56308533,  0.75431219]])"
      ]
     },
     "execution_count": 34,
     "metadata": {},
     "output_type": "execute_result"
    }
   ],
   "source": [
    "data"
   ]
  },
  {
   "cell_type": "code",
   "execution_count": 35,
   "metadata": {
    "collapsed": true
   },
   "outputs": [],
   "source": [
    "def svccv(C, gamma):\n",
    "    val = cross_val_score(\n",
    "        SVC(C=C, gamma=gamma, random_state=2),\n",
    "        data, target, 'f1', cv=2\n",
    "    ).mean()\n",
    "\n",
    "    return val\n",
    "\n",
    "def rfccv(n_estimators, min_samples_split, max_features):\n",
    "    val = cross_val_score(\n",
    "        RFC(n_estimators=int(n_estimators),\n",
    "            min_samples_split=int(min_samples_split),\n",
    "            max_features=min(max_features, 0.999),\n",
    "            random_state=2\n",
    "        ),\n",
    "        data, target, 'f1', cv=2\n",
    "    ).mean()\n",
    "    return val"
   ]
  },
  {
   "cell_type": "code",
   "execution_count": 39,
   "metadata": {
    "collapsed": false
   },
   "outputs": [
    {
     "name": "stdout",
     "output_type": "stream",
     "text": [
      "\u001b[31mInitialization\u001b[0m\n",
      "\u001b[94m-----------------------------------------------------\u001b[0m\n",
      " Step |   Time |      Value |         C |     gamma | \n",
      "    1 | 00m00s | \u001b[35m   0.00000\u001b[0m | \u001b[32m   0.0010\u001b[0m | \u001b[32m   0.0010\u001b[0m | \n",
      "    2 | 00m00s |    0.00000 |    0.0100 |    0.0100 | \n",
      "    3 | 00m00s |    0.00000 |    0.1000 |    0.1000 | \n",
      "    4 | 00m00s |    0.00000 |   59.0991 |   20.0233 | \n",
      "    5 | 00m00s |    0.00000 |   83.5821 |   15.3923 | \n",
      "    6 | 00m00s |    0.00000 |   11.0712 |   62.5625 | \n",
      "    7 | 00m00s |    0.00000 |   58.2238 |   13.9844 | \n",
      "    8 | 00m00s |    0.00000 |   67.4883 |   34.1776 | \n",
      "\u001b[31mBayesian Optimization\u001b[0m\n",
      "\u001b[94m-----------------------------------------------------\u001b[0m\n",
      " Step |   Time |      Value |         C |     gamma | \n",
      "    9 | 00m12s |    0.00000 |   99.8945 |   99.8212 | \n",
      "   10 | 00m06s |    0.00000 |    0.4529 |   99.9678 | \n",
      "   11 | 00m07s |    0.00000 |   99.8053 |   99.9635 | \n",
      "   12 | 00m06s |    0.00000 |    0.4730 |   99.8063 | \n",
      "   13 | 00m06s | \u001b[35m   0.85216\u001b[0m | \u001b[32m  99.8829\u001b[0m | \u001b[32m   0.0402\u001b[0m | \n",
      "   14 | 00m06s |    0.00000 |   49.3037 |  100.0000 | \n",
      "   15 | 00m07s |    0.00000 |  100.0000 |   53.2544 | \n",
      "   16 | 00m03s |    0.00000 |  100.0000 |    2.4733 | \n",
      "   17 | 00m03s | \u001b[35m   0.88710\u001b[0m | \u001b[32m  86.2649\u001b[0m | \u001b[32m   0.0010\u001b[0m | \n",
      "   18 | 00m03s |    0.88576 |   72.5885 |    0.0010 | \n",
      "-----------------------------------------------------\n",
      "\u001b[31mInitialization\u001b[0m\n",
      "\u001b[94m-------------------------------------------------------------------------------------\u001b[0m\n",
      " Step |   Time |      Value |   max_features |   min_samples_split |   n_estimators | \n",
      "    1 | 00m02s | \u001b[35m   0.86708\u001b[0m | \u001b[32m        0.4842\u001b[0m | \u001b[32m            12.1681\u001b[0m | \u001b[32m      152.9612\u001b[0m | \n",
      "    2 | 00m00s |    0.86633 |         0.1728 |             10.2496 |        52.3622 | \n",
      "    3 | 00m01s | \u001b[35m   0.87519\u001b[0m | \u001b[32m        0.1292\u001b[0m | \u001b[32m            18.1034\u001b[0m | \u001b[32m      147.6141\u001b[0m | \n",
      "    4 | 00m02s |    0.85130 |         0.9861 |             21.9793 |       119.6171 | \n",
      "    5 | 00m04s |    0.85492 |         0.9710 |             16.5075 |       220.1447 | \n",
      "\u001b[31mBayesian Optimization\u001b[0m\n",
      "\u001b[94m-------------------------------------------------------------------------------------\u001b[0m\n",
      " Step |   Time |      Value |   max_features |   min_samples_split |   n_estimators | \n",
      "    6 | 00m08s |    0.82005 |         0.9990 |             25.0000 |        10.0000 | \n",
      "    7 | 00m06s |    0.87444 |         0.1046 |              2.2050 |       249.6425 | \n",
      "    8 | 00m06s |    0.85830 |         0.3586 |             24.9268 |       249.6861 | \n",
      "    9 | 00m04s |    0.79452 |         0.1000 |              2.0000 |        10.0000 | \n",
      "   10 | 00m05s |    0.86827 |         0.1151 |             24.9604 |       172.4797 | \n",
      "   11 | 00m04s |    0.85751 |         0.1621 |             24.8732 |        68.6509 | \n",
      "   12 | 00m05s |    0.86904 |         0.1000 |              2.0000 |        84.4750 | \n",
      "   13 | 00m05s | \u001b[35m   0.88006\u001b[0m | \u001b[32m        0.1359\u001b[0m | \u001b[32m             2.0136\u001b[0m | \u001b[32m      183.8817\u001b[0m | \n",
      "   14 | 00m07s |    0.87630 |         0.1885 |              2.0174 |       138.6684 | \n",
      "   15 | 00m07s |    0.87251 |         0.2487 |              2.1207 |       166.5080 | \n",
      "-----------------------------------------------------\n",
      "Final Results\n",
      "SVC: 0.887103\n",
      "RFC: 0.880059\n"
     ]
    }
   ],
   "source": [
    "if __name__ == \"__main__\":\n",
    "    gp_params = {\"alpha\": 1e-5}\n",
    "\n",
    "    svcBO = BayesianOptimization(svccv,\n",
    "        {'C': (0.001, 100), 'gamma': (0.001, 100)})\n",
    "    svcBO.explore({'C': [0.001, 0.01, 0.1], 'gamma': [0.001, 0.01, 0.1]})\n",
    "\n",
    "    rfcBO = BayesianOptimization(\n",
    "        rfccv,\n",
    "        {'n_estimators': (10, 250),\n",
    "        'min_samples_split': (2, 25),\n",
    "        'max_features': (0.1, 0.999)}\n",
    "    )\n",
    "\n",
    "    svcBO.maximize(n_iter=10, **gp_params)\n",
    "    print('-' * 53)\n",
    "    rfcBO.maximize(n_iter=10, **gp_params)\n",
    "\n",
    "    print('-' * 53)\n",
    "    print('Final Results')\n",
    "    print('SVC: %f' % svcBO.res['max']['max_val'])\n",
    "    print('RFC: %f' % rfcBO.res['max']['max_val'])"
   ]
  },
  {
   "cell_type": "code",
   "execution_count": null,
   "metadata": {
    "collapsed": true
   },
   "outputs": [],
   "source": []
  }
 ],
 "metadata": {
  "kernelspec": {
   "display_name": "Python 2",
   "language": "python",
   "name": "python2"
  },
  "language_info": {
   "codemirror_mode": {
    "name": "ipython",
    "version": 2
   },
   "file_extension": ".py",
   "mimetype": "text/x-python",
   "name": "python",
   "nbconvert_exporter": "python",
   "pygments_lexer": "ipython2",
   "version": "2.7.13"
  }
 },
 "nbformat": 4,
 "nbformat_minor": 2
}
